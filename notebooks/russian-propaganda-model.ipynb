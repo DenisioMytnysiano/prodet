{
 "cells": [
  {
   "cell_type": "markdown",
   "metadata": {
    "application/vnd.databricks.v1+cell": {
     "cellMetadata": {},
     "inputWidgets": {},
     "nuid": "c8398c86-3b57-4820-98ed-0316447fc37c",
     "showTitle": false,
     "title": ""
    }
   },
   "source": [
    "# Imports"
   ]
  },
  {
   "cell_type": "code",
   "execution_count": 0,
   "metadata": {
    "application/vnd.databricks.v1+cell": {
     "cellMetadata": {
      "byteLimit": 2048000,
      "rowLimit": 10000
     },
     "inputWidgets": {},
     "nuid": "3c2abc56-b314-4409-8182-5b3685ef7eaa",
     "showTitle": false,
     "title": ""
    }
   },
   "outputs": [],
   "source": [
    "import pyspark\n",
    "import sparknlp\n",
    "import pyspark.sql.functions as F\n",
    "from pyspark.sql.types import *\n",
    "from pyspark.ml.feature import *\n",
    "from pyspark.ml import Pipeline\n",
    "from pyspark.mllib.evaluation import MulticlassMetrics\n",
    "from sparknlp.annotator import *\n",
    "from sparknlp.common import *\n",
    "from sparknlp.base import *\n",
    "from sklearn.metrics import classification_report"
   ]
  },
  {
   "cell_type": "markdown",
   "metadata": {
    "application/vnd.databricks.v1+cell": {
     "cellMetadata": {},
     "inputWidgets": {},
     "nuid": "ddeb35da-036e-4816-a71f-74e3b1e2103d",
     "showTitle": false,
     "title": ""
    }
   },
   "source": [
    "# Model"
   ]
  },
  {
   "cell_type": "markdown",
   "metadata": {
    "application/vnd.databricks.v1+cell": {
     "cellMetadata": {},
     "inputWidgets": {},
     "nuid": "fb7963ff-3989-49ed-bb43-efa0463c9501",
     "showTitle": false,
     "title": ""
    }
   },
   "source": [
    "## Training Dataset"
   ]
  },
  {
   "cell_type": "code",
   "execution_count": 0,
   "metadata": {
    "application/vnd.databricks.v1+cell": {
     "cellMetadata": {
      "byteLimit": 2048000,
      "rowLimit": 10000
     },
     "inputWidgets": {},
     "nuid": "01af44fe-0622-481b-bc06-e0cd3df4e410",
     "showTitle": false,
     "title": ""
    }
   },
   "outputs": [],
   "source": [
    "russian_propaganda = (spark.read.table(\"russian_propaganda\")\n",
    "    .withColumn(\"is_propaganda\", F.lit(1.0)))\n",
    "\n",
    "true_news = (spark.read.table(\"non_propaganda_csv\")\n",
    "    .select(F.col(\"5\").alias(\"text\"))\n",
    "    .withColumn(\"is_propagande\", F.lit(0.0)))\n",
    "\n",
    "train_val_fraction = 0.2\n",
    "russian_peopaganda_train_count = int(russian_propaganda.count() * (1 - train_val_fraction))\n",
    "true_news_train_count = int(true_news.count() * (1 - train_val_fraction))\n",
    "\n",
    "training_data = (russian_propaganda.limit(russian_peopaganda_train_count)\n",
    "    .union(true_news.limit(true_news_train_count))\n",
    "    .cache()\n",
    ")\n",
    "\n",
    "test_data = (russian_propaganda.offset(russian_peopaganda_train_count)\n",
    "    .union(true_news.offset(true_news_train_count))\n",
    "    .cache()\n",
    ")"
   ]
  },
  {
   "cell_type": "code",
   "execution_count": 0,
   "metadata": {
    "application/vnd.databricks.v1+cell": {
     "cellMetadata": {
      "byteLimit": 2048000,
      "rowLimit": 10000
     },
     "inputWidgets": {},
     "nuid": "4a272060-bc7b-4da6-b02c-ab261fa3d3d3",
     "showTitle": false,
     "title": ""
    }
   },
   "outputs": [
    {
     "output_type": "display_data",
     "data": {
      "text/html": [
       "<style scoped>\n",
       "  .table-result-container {\n",
       "    max-height: 300px;\n",
       "    overflow: auto;\n",
       "  }\n",
       "  table, th, td {\n",
       "    border: 1px solid black;\n",
       "    border-collapse: collapse;\n",
       "  }\n",
       "  th, td {\n",
       "    padding: 5px;\n",
       "  }\n",
       "  th {\n",
       "    text-align: left;\n",
       "  }\n",
       "</style><div class='table-result-container'><table class='table-result'><thead style='background-color: white'><tr><th>text</th><th>is_propaganda</th></tr></thead><tbody><tr><td>The Holodomor theme is a term that appeared in the Cold War as an element of anti-Soviet propaganda. There was no famine in Ukraine because there is no documentary evidence of this.</td><td>1.0</td></tr><tr><td>The US is supporting terrorists in Iran and aims to organise a coup in the country.</td><td>1.0</td></tr><tr><td>George Soros is behind many political convulsions around the world, e.g. creating anti-establishment parties such as SYRIZA (Greece) and PODEMOS (Spain).</td><td>1.0</td></tr><tr><td>The Ukrainian secret service manipulated a sound recording in the MH17 investigation.As an indication of the manipulation, the Malaysian expert mentions the noise level in the sound recording: \"That is manipulated. The noise level differs from this audio track. See this soundtrack, the noise level differs in this part. It is lower here and higher here\".Audio parts had been cut together. There are also many sections that have been cut out. \"That is clear, you can see that, the lack of parts of the audio recording,\" the analyst added.</td><td>1.0</td></tr><tr><td>Belgian PM Charles Micheal told the press after his meeting with Dmitrij Medvedev that the EU has had enough of self-inflicted harm and will stop supporting the sanctions. The reason for the conflict in Eastern Ukraine - which brought about the EU sanctions - is the US-led coup. Russia does not even have troops in the Donbas and their support for the two separatist republic is only a way to stop the Ukrainian government.</td><td>1.0</td></tr></tbody></table></div>"
      ]
     },
     "metadata": {
      "application/vnd.databricks.v1+output": {
       "addedWidgets": {},
       "aggData": [],
       "aggError": "",
       "aggOverflow": false,
       "aggSchema": [],
       "aggSeriesLimitReached": false,
       "aggType": "",
       "arguments": {},
       "columnCustomDisplayInfos": {},
       "data": [
        [
         "The Holodomor theme is a term that appeared in the Cold War as an element of anti-Soviet propaganda. There was no famine in Ukraine because there is no documentary evidence of this.",
         1.0
        ],
        [
         "The US is supporting terrorists in Iran and aims to organise a coup in the country.",
         1.0
        ],
        [
         "George Soros is behind many political convulsions around the world, e.g. creating anti-establishment parties such as SYRIZA (Greece) and PODEMOS (Spain).",
         1.0
        ],
        [
         "The Ukrainian secret service manipulated a sound recording in the MH17 investigation.As an indication of the manipulation, the Malaysian expert mentions the noise level in the sound recording: \"That is manipulated. The noise level differs from this audio track. See this soundtrack, the noise level differs in this part. It is lower here and higher here\".Audio parts had been cut together. There are also many sections that have been cut out. \"That is clear, you can see that, the lack of parts of the audio recording,\" the analyst added.",
         1.0
        ],
        [
         "Belgian PM Charles Micheal told the press after his meeting with Dmitrij Medvedev that the EU has had enough of self-inflicted harm and will stop supporting the sanctions. The reason for the conflict in Eastern Ukraine - which brought about the EU sanctions - is the US-led coup. Russia does not even have troops in the Donbas and their support for the two separatist republic is only a way to stop the Ukrainian government.",
         1.0
        ]
       ],
       "datasetInfos": [],
       "dbfsResultPath": null,
       "isJsonSchema": true,
       "metadata": {},
       "overflow": false,
       "plotOptions": {
        "customPlotOptions": {},
        "displayType": "table",
        "pivotAggregation": null,
        "pivotColumns": null,
        "xColumns": null,
        "yColumns": null
       },
       "removedWidgets": [],
       "schema": [
        {
         "metadata": "{}",
         "name": "text",
         "type": "\"string\""
        },
        {
         "metadata": "{}",
         "name": "is_propaganda",
         "type": "\"double\""
        }
       ],
       "type": "table"
      }
     },
     "output_type": "display_data"
    }
   ],
   "source": [
    "display(training_data.head(5))"
   ]
  },
  {
   "cell_type": "code",
   "execution_count": 0,
   "metadata": {
    "application/vnd.databricks.v1+cell": {
     "cellMetadata": {
      "byteLimit": 2048000,
      "rowLimit": 10000
     },
     "inputWidgets": {},
     "nuid": "a0cda6cc-d0f9-45bc-a546-d512e54e5d2c",
     "showTitle": false,
     "title": ""
    }
   },
   "outputs": [
    {
     "output_type": "display_data",
     "data": {
      "text/html": [
       "<style scoped>\n",
       "  .table-result-container {\n",
       "    max-height: 300px;\n",
       "    overflow: auto;\n",
       "  }\n",
       "  table, th, td {\n",
       "    border: 1px solid black;\n",
       "    border-collapse: collapse;\n",
       "  }\n",
       "  th, td {\n",
       "    padding: 5px;\n",
       "  }\n",
       "  th {\n",
       "    text-align: left;\n",
       "  }\n",
       "</style><div class='table-result-container'><table class='table-result'><thead style='background-color: white'><tr><th>is_propaganda</th><th>count</th></tr></thead><tbody><tr><td>1.0</td><td>14503</td></tr><tr><td>0.0</td><td>39903</td></tr></tbody></table></div>"
      ]
     },
     "metadata": {
      "application/vnd.databricks.v1+output": {
       "addedWidgets": {},
       "aggData": [],
       "aggError": "",
       "aggOverflow": false,
       "aggSchema": [],
       "aggSeriesLimitReached": false,
       "aggType": "",
       "arguments": {},
       "columnCustomDisplayInfos": {},
       "data": [
        [
         1.0,
         14503
        ],
        [
         0.0,
         39903
        ]
       ],
       "datasetInfos": [],
       "dbfsResultPath": null,
       "isJsonSchema": true,
       "metadata": {},
       "overflow": false,
       "plotOptions": {
        "customPlotOptions": {},
        "displayType": "table",
        "pivotAggregation": null,
        "pivotColumns": null,
        "xColumns": null,
        "yColumns": null
       },
       "removedWidgets": [],
       "schema": [
        {
         "metadata": "{}",
         "name": "is_propaganda",
         "type": "\"double\""
        },
        {
         "metadata": "{}",
         "name": "count",
         "type": "\"long\""
        }
       ],
       "type": "table"
      }
     },
     "output_type": "display_data"
    }
   ],
   "source": [
    "display(training_data.groupBy(\"is_propaganda\").count())"
   ]
  },
  {
   "cell_type": "markdown",
   "metadata": {
    "application/vnd.databricks.v1+cell": {
     "cellMetadata": {},
     "inputWidgets": {},
     "nuid": "ece6ddf5-a282-4dcc-9517-77d0e2e34b97",
     "showTitle": false,
     "title": ""
    }
   },
   "source": [
    "## Training"
   ]
  },
  {
   "cell_type": "code",
   "execution_count": 0,
   "metadata": {
    "application/vnd.databricks.v1+cell": {
     "cellMetadata": {
      "byteLimit": 2048000,
      "rowLimit": 10000
     },
     "inputWidgets": {},
     "nuid": "5999dc00-8b2a-48da-84b3-4ccab0e7f501",
     "showTitle": false,
     "title": ""
    }
   },
   "outputs": [
    {
     "output_type": "stream",
     "name": "stdout",
     "output_type": "stream",
     "text": [
      "tfhub_use download started this may take some time.\nApproximate size to download 923.7 MB\n\r[ | ]\r[ / ]\r[ — ]\r[ \\ ]\r[ | ]\r[ / ]\r[ — ]\r[ \\ ]\r[ | ]\r[ / ]\r[ — ]\r[ \\ ]\r[ | ]\r[ / ]\r[ — ]\r[ \\ ]\r[ | ]\r[ / ]\r[ — ]\r[ \\ ]\r[ | ]\r[ / ]\r[ — ]\r[OK!]\n"
     ]
    }
   ],
   "source": [
    "documentAssembler = (\n",
    "    DocumentAssembler()\n",
    "    .setInputCol(\"text\")\n",
    "    .setOutputCol(\"document\")\n",
    ")\n",
    "    \n",
    "encoder = (\n",
    "    UniversalSentenceEncoder.pretrained(\"tfhub_use\", \"en\")\n",
    "    .setInputCols([\"document\"])\n",
    "    .setOutputCol(\"sentence_embeddings\")\n",
    ")\n",
    "\n",
    "model = (\n",
    "    ClassifierDLApproach()\n",
    "    .setInputCols(\"sentence_embeddings\")\n",
    "    .setOutputCol(\"prediction\")\n",
    "    .setLabelColumn(\"is_propaganda\")\n",
    "    .setMaxEpochs(10)\n",
    "    .setEnableOutputLogs(True)\n",
    ")\n",
    "\n",
    "pipeline = Pipeline(\n",
    "    stages = [\n",
    "        documentAssembler,\n",
    "        encoder,\n",
    "        model\n",
    "    ]\n",
    ")"
   ]
  },
  {
   "cell_type": "code",
   "execution_count": 0,
   "metadata": {
    "application/vnd.databricks.v1+cell": {
     "cellMetadata": {
      "byteLimit": 2048000,
      "rowLimit": 10000
     },
     "inputWidgets": {},
     "nuid": "ff454d71-12d7-4bdf-8af2-25bcc2cbbe58",
     "showTitle": false,
     "title": ""
    }
   },
   "outputs": [],
   "source": [
    "sentiment_predictor = pipeline.fit(training_data)"
   ]
  },
  {
   "cell_type": "markdown",
   "metadata": {
    "application/vnd.databricks.v1+cell": {
     "cellMetadata": {},
     "inputWidgets": {},
     "nuid": "0cf73843-5791-464f-8358-ded5faf3f022",
     "showTitle": false,
     "title": ""
    }
   },
   "source": [
    "## Validation"
   ]
  },
  {
   "cell_type": "code",
   "execution_count": 0,
   "metadata": {
    "application/vnd.databricks.v1+cell": {
     "cellMetadata": {
      "byteLimit": 2048000,
      "rowLimit": 10000
     },
     "inputWidgets": {},
     "nuid": "de4e781a-720c-439e-b45b-9332df8e8ea1",
     "showTitle": false,
     "title": ""
    }
   },
   "outputs": [],
   "source": [
    "predictions = (sentiment_predictor.transform(test_data)\n",
    "    .select(\"is_propaganda\", F.element_at(F.col(\"prediction.result\"), 1).alias(\"prediction\"))\n",
    "    .withColumn(\"prediction\", F.when(F.col(\"prediction\") == \"1.0\", F.lit(1.0)).otherwise(F.lit(0.0)))\n",
    "    .toPandas())"
   ]
  },
  {
   "cell_type": "code",
   "execution_count": 0,
   "metadata": {
    "application/vnd.databricks.v1+cell": {
     "cellMetadata": {
      "byteLimit": 2048000,
      "rowLimit": 10000
     },
     "inputWidgets": {},
     "nuid": "332ed6f2-76fc-40b9-974a-af4716fe2f66",
     "showTitle": false,
     "title": ""
    }
   },
   "outputs": [
    {
     "output_type": "stream",
     "name": "stdout",
     "output_type": "stream",
     "text": [
      "                precision    recall  f1-score   support\n\nnon_propaganda       1.00      1.00      1.00      9976\n    propaganda       1.00      1.00      1.00      3626\n\n      accuracy                           1.00     13602\n     macro avg       1.00      1.00      1.00     13602\n  weighted avg       1.00      1.00      1.00     13602\n\n"
     ]
    }
   ],
   "source": [
    "print(classification_report(predictions[\"is_propaganda\"], predictions[\"prediction\"], target_names=[\"non_propaganda\", \"propaganda\"]))"
   ]
  },
  {
   "cell_type": "code",
   "execution_count": 0,
   "metadata": {
    "application/vnd.databricks.v1+cell": {
     "cellMetadata": {
      "byteLimit": 2048000,
      "rowLimit": 10000
     },
     "inputWidgets": {},
     "nuid": "6f5a94ea-4ecd-4bcc-bd6e-4afc849a6592",
     "showTitle": false,
     "title": ""
    }
   },
   "outputs": [],
   "source": [
    "sentences = [\n",
    "    \"I like to drink beer\",\n",
    "    \"You are bad guy\",\n",
    "    \"USA confront Russian and wants to destroy it\",\n",
    "    \"Ukraine will lose the war\",\n",
    "    \"i was in ukraine, it is beautiful\"\n",
    "]\n",
    "schema = schema = StructType([StructField(\"text\", StringType(), True)])\n",
    "data = [Row(text=sentence) for sentence in sentences]\n",
    "test = spark.createDataFrame(data)"
   ]
  },
  {
   "cell_type": "code",
   "execution_count": 0,
   "metadata": {
    "application/vnd.databricks.v1+cell": {
     "cellMetadata": {
      "byteLimit": 2048000,
      "rowLimit": 10000
     },
     "inputWidgets": {},
     "nuid": "558429b1-6c4b-4c33-9957-10d7d02e4287",
     "showTitle": false,
     "title": ""
    }
   },
   "outputs": [
    {
     "output_type": "display_data",
     "data": {
      "text/html": [
       "<style scoped>\n",
       "  .table-result-container {\n",
       "    max-height: 300px;\n",
       "    overflow: auto;\n",
       "  }\n",
       "  table, th, td {\n",
       "    border: 1px solid black;\n",
       "    border-collapse: collapse;\n",
       "  }\n",
       "  th, td {\n",
       "    padding: 5px;\n",
       "  }\n",
       "  th {\n",
       "    text-align: left;\n",
       "  }\n",
       "</style><div class='table-result-container'><table class='table-result'><thead style='background-color: white'><tr><th>text</th><th>prediction</th></tr></thead><tbody><tr><td>I like to drink beer</td><td>0.0</td></tr><tr><td>You are bad guy</td><td>0.0</td></tr><tr><td>USA confront Russian and wants to destroy it</td><td>1.0</td></tr><tr><td>Ukraine will lose the war</td><td>1.0</td></tr><tr><td>i was in ukraine, it is beautiful</td><td>0.0</td></tr></tbody></table></div>"
      ]
     },
     "metadata": {
      "application/vnd.databricks.v1+output": {
       "addedWidgets": {},
       "aggData": [],
       "aggError": "",
       "aggOverflow": false,
       "aggSchema": [],
       "aggSeriesLimitReached": false,
       "aggType": "",
       "arguments": {},
       "columnCustomDisplayInfos": {},
       "data": [
        [
         "I like to drink beer",
         0.0
        ],
        [
         "You are bad guy",
         0.0
        ],
        [
         "USA confront Russian and wants to destroy it",
         1.0
        ],
        [
         "Ukraine will lose the war",
         1.0
        ],
        [
         "i was in ukraine, it is beautiful",
         0.0
        ]
       ],
       "datasetInfos": [],
       "dbfsResultPath": null,
       "isJsonSchema": true,
       "metadata": {},
       "overflow": false,
       "plotOptions": {
        "customPlotOptions": {},
        "displayType": "table",
        "pivotAggregation": null,
        "pivotColumns": null,
        "xColumns": null,
        "yColumns": null
       },
       "removedWidgets": [],
       "schema": [
        {
         "metadata": "{}",
         "name": "text",
         "type": "\"string\""
        },
        {
         "metadata": "{}",
         "name": "prediction",
         "type": "\"double\""
        }
       ],
       "type": "table"
      }
     },
     "output_type": "display_data"
    }
   ],
   "source": [
    "test_predictions = (sentiment_predictor.transform(test)\n",
    "    .select(\"text\", F.element_at(F.col(\"prediction.result\"), 1).alias(\"prediction\"))\n",
    "    .withColumn(\"prediction\", F.when(F.col(\"prediction\") == \"1.0\", F.lit(1.0)).otherwise(F.lit(0.0))))\n",
    "    \n",
    "display(test_predictions)"
   ]
  }
 ],
 "metadata": {
  "application/vnd.databricks.v1+notebook": {
   "dashboards": [],
   "language": "python",
   "notebookMetadata": {
    "pythonIndentUnit": 4
   },
   "notebookName": "Propaganda Detection",
   "widgets": {}
  }
 },
 "nbformat": 4,
 "nbformat_minor": 0
}
